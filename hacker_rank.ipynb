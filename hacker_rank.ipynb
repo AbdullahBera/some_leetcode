{
 "cells": [
  {
   "cell_type": "code",
   "execution_count": 35,
   "metadata": {},
   "outputs": [
    {
     "data": {
      "text/plain": [
       "[1, 2, 2, 3, 3, 4, 4, 5]"
      ]
     },
     "execution_count": 35,
     "metadata": {},
     "output_type": "execute_result"
    }
   ],
   "source": [
    "# Week 4 Question 4\n",
    "arr = [5, 4, 3, 2, 1]\n",
    "\n",
    "sorted_arr = sorted(arr)\n",
    "new_list=[]\n",
    "for i in range(len(sorted_arr)-1):\n",
    "    new_list.append(sorted_arr[i])\n",
    "    new_list.append(sorted_arr[i+1])\n",
    "\n",
    "new_list"
   ]
  },
  {
   "cell_type": "code",
   "execution_count": 29,
   "metadata": {},
   "outputs": [
    {
     "name": "stdout",
     "output_type": "stream",
     "text": [
      "N0\n",
      "YES 9\n"
     ]
    }
   ],
   "source": [
    "# Week 4 Question 4\n",
    "\n",
    "s = '91011'\n",
    "list=[]\n",
    "\n",
    "def separateNumbers(s):\n",
    "    # Write your code here\n",
    "    c=0\n",
    "    for i in range(len(s)-1):\n",
    "        if int(s[c]) + 1 == int(s[c+1]):\n",
    "            c+=1\n",
    "    else:\n",
    "        print(\"N0\")\n",
    "    \n",
    "    print(f\"YES {s[0]}\")\n",
    "\n",
    "separateNumbers(s)"
   ]
  },
  {
   "cell_type": "code",
   "execution_count": null,
   "metadata": {},
   "outputs": [],
   "source": [
    "if int(s[0]) + 1 != int(s[1]):\n",
    "     "
   ]
  },
  {
   "cell_type": "code",
   "execution_count": 5,
   "metadata": {},
   "outputs": [
    {
     "data": {
      "text/plain": [
       "'YES'"
      ]
     },
     "execution_count": 5,
     "metadata": {},
     "output_type": "execute_result"
    }
   ],
   "source": [
    "# Week 4 Question 3\n",
    "\n",
    "\"\"\"\n",
    "You are organizing a circus act with two kangaroos that are on a number line. Each kangaroo moves forward by jumping at a fixed rate.\n",
    "\n",
    "The first kangaroo starts at position x1 and jumps forward v1 meters each time.\n",
    "The second kangaroo starts at position x2 and jumps forward v2 meters each time.\n",
    "Your task is to determine whether the two kangaroos will land on the same spot at the same time after making the same number of jumps. If they meet, return \"YES\". \n",
    "If they never land on the same spot together, return \"NO\".\n",
    "\n",
    "Example:\n",
    "If the first kangaroo starts at x1 = 2 and jumps v1 = 1 meters per jump, and the second kangaroo starts at x2 = 1 and jumps v2 = 2 meters per jump, after one jump they will both be at\n",
    " position 3:\n",
    "\n",
    "Kangaroo 1: 2 + 1 = 3\n",
    "Kangaroo 2: 1 + 2 = 3\n",
    "Since they land at the same spot at the same time, the answer is \"YES\".\n",
    "\n",
    "Your goal is to write a function that takes four numbers (x1, v1, x2, v2) and determines if the two kangaroos will meet at some point.\n",
    "\n",
    "\"\"\"\n",
    "\n",
    "x1=2\n",
    "v1=1\n",
    "x2=1\n",
    "v2=2\n",
    "\n",
    "def kangaroo(x1, v1, x2, v2):\n",
    "    for _ in range(10000):\n",
    "        if x1 == x2:\n",
    "            return(\"YES\")\n",
    "        else: \n",
    "            x1+=v1\n",
    "            x2+=v2\n",
    "    return('NO')\n",
    "kangaroo(x1, v1, x2, v2)"
   ]
  },
  {
   "cell_type": "code",
   "execution_count": 54,
   "metadata": {},
   "outputs": [
    {
     "data": {
      "text/plain": [
       "[3, 4, 5, 1, 2]"
      ]
     },
     "execution_count": 54,
     "metadata": {},
     "output_type": "execute_result"
    }
   ],
   "source": [
    "## Week 4 Question 1 \n",
    "\n",
    "\"\"\"\n",
    "A left rotation operation on an array of size n shifts each of the array's elements 1 unit to the left. Given an integer d, rotate the array that many steps left and return the result.\n",
    "\n",
    "Example:\n",
    "Input:\n",
    "d = 2\n",
    "arr = [1, 2, 3, 4, 5]\n",
    "\n",
    "Output:\n",
    "arr' = [3, 4, 5, 1, 2]\n",
    "\n",
    "Function Description:\n",
    "Complete the rotateLeft function.\n",
    "\n",
    "Parameters:\n",
    "\n",
    "int d: the number of left rotations to perform.\n",
    "int arr[n]: the array to rotate.\n",
    "Returns:\n",
    "\n",
    "int[n]: the rotated array.\n",
    "Input Format:\n",
    "The first line contains two space-separated integers:\n",
    "\n",
    "n: the number of integers.\n",
    "d: the number of left rotations to perform.\n",
    "The second line contains n space-separated integers describing arr[].\n",
    "\"\"\"\n",
    "\n",
    "arr = [1,2,3,4,5]\n",
    "d= 2 \n",
    "\n",
    "def rotateLeft(d, arr):\n",
    "\n",
    "    n = len(arr)\n",
    "    d = d % n \n",
    "    return(arr[d:]+arr[:d])\n",
    "\n",
    "rotateLeft(d, arr)"
   ]
  },
  {
   "cell_type": "code",
   "execution_count": 38,
   "metadata": {},
   "outputs": [
    {
     "data": {
      "text/plain": [
       "1"
      ]
     },
     "execution_count": 38,
     "metadata": {},
     "output_type": "execute_result"
    }
   ],
   "source": [
    "# Week 3 Question 8\n",
    "\n",
    "n = 6\n",
    "p = 5\n",
    "\n",
    "def pageCount(n, p):\n",
    "    i = 0 \n",
    "    list = []\n",
    "    while i <= n:\n",
    "        list.append([i, i +1])\n",
    "        i+=2\n",
    "\n",
    "    for x in list:\n",
    "        c = 0\n",
    "        if p in x:\n",
    "            c = c\n",
    "        else:\n",
    "            c+=1\n",
    "    \n",
    "    for x in list[::-1]:\n",
    "        d = 0 \n",
    "        if p in x:\n",
    "            d = d \n",
    "        else:\n",
    "            d+=1\n",
    "            \n",
    "    return(min(c,d))\n",
    "    \n",
    "pageCount(n, p)      "
   ]
  },
  {
   "cell_type": "code",
   "execution_count": 39,
   "metadata": {},
   "outputs": [
    {
     "data": {
      "text/plain": [
       "1"
      ]
     },
     "execution_count": 39,
     "metadata": {},
     "output_type": "execute_result"
    }
   ],
   "source": [
    "# A better and more efficient way of solving question 8\n",
    "\n",
    "n = 6\n",
    "p = 5 \n",
    "def pageCount(n, p):\n",
    "    return min(p // 2, n // 2 - p // 2)\n",
    "\n",
    "pageCount(n, p)"
   ]
  },
  {
   "cell_type": "code",
   "execution_count": 40,
   "metadata": {},
   "outputs": [
    {
     "data": {
      "text/plain": [
       "[3, 4, 5]"
      ]
     },
     "execution_count": 40,
     "metadata": {},
     "output_type": "execute_result"
    }
   ],
   "source": [
    "# Week 3 Question 5\n",
    "\n",
    "sticks = [1, 2, 3, 4, 5, 10]\n",
    "\n",
    "def maximumPerimeterTriangle(sticks):\n",
    "    # Write your code here\n",
    "    \n",
    "    sorted_sticks = sorted(sticks, reverse=True)\n",
    "    \n",
    "    for i in range(len(sorted_sticks) -2 ):\n",
    "        if sorted_sticks[i] < sorted_sticks[i+1] + sorted_sticks[i+2]: \n",
    "            return sorted([sorted_sticks[i], sorted_sticks[i+1], sorted_sticks[i+2]])\n",
    "    return[-1]\n",
    "\n",
    "    \n",
    "maximumPerimeterTriangle(sticks)"
   ]
  },
  {
   "cell_type": "code",
   "execution_count": 41,
   "metadata": {},
   "outputs": [
    {
     "name": "stdout",
     "output_type": "stream",
     "text": [
      "[0, 2, 2, 3, 3, 1, 0, 0, 0, 0, 0, 0]\n"
     ]
    },
    {
     "data": {
      "text/plain": [
       "3"
      ]
     },
     "execution_count": 41,
     "metadata": {},
     "output_type": "execute_result"
    }
   ],
   "source": [
    "# Week 3 Question 4\n",
    "\n",
    "\"\"\"\n",
    "The problem is asking for a solution to determine which bird type is the most frequently sighted from an array of bird sightings, where each number in the array represents a bird type ID.\n",
    "\n",
    "Here’s a plain English explanation:\n",
    "\n",
    "You are given a list of bird sightings. Each number in the list corresponds to a specific bird type (e.g., 1, 2, 3, etc.).\n",
    "Your task is to find the bird type that has been spotted the most number of times.\n",
    "If there is a tie (two or more bird types have the same maximum sightings), you should return the bird type with the smallest ID.\n",
    "Example:\n",
    "\n",
    "Input: [1, 1, 2, 2, 3]\n",
    "Explanation:\n",
    "Bird type 1 appears 2 times.\n",
    "Bird type 2 also appears 2 times.\n",
    "Bird type 3 appears only 1 time.\n",
    "Since both 1 and 2 are tied for the most sightings, you choose 1 because it has the smallest ID.\n",
    "Output: 1.\n",
    "You need to write a function to solve this problem. The function should return the smallest ID of the most frequently sighted bird types.\n",
    "\"\"\"\n",
    "arr = [1, 2, 3, 4, 5, 4, 3, 2, 1, 3, 4]\n",
    "\n",
    "def migratoryBirds(arr):\n",
    "    zeros = [0 for _ in range(len(arr)+1)]\n",
    "\n",
    "    for i in arr:\n",
    "        zeros[i] += 1\n",
    "    print(zeros)\n",
    "\n",
    "    return(zeros.index(max(zeros)))\n",
    "    \n",
    "migratoryBirds(arr)"
   ]
  },
  {
   "cell_type": "code",
   "execution_count": 17,
   "metadata": {},
   "outputs": [
    {
     "data": {
      "text/plain": [
       "4"
      ]
     },
     "execution_count": 17,
     "metadata": {},
     "output_type": "execute_result"
    }
   ],
   "source": [
    "# Week 3 Question 4\n",
    "\n",
    "\"\"\"\n",
    "You have a pile of socks, and each sock is identified by its color, represented as a number. Your task is to determine how many pairs of socks of the same color can be formed. \n",
    "A pair consists of two socks of the same color.\n",
    "\n",
    "For example, if you have seven socks, and their colors are represented as [1, 2, 1, 2, 1, 3, 2], you can form one pair of color 1 and one pair of color 2. Any leftover socks that cannot \n",
    "form pairs are ignored. In this example, the total number of pairs is 2.\n",
    "\n",
    "You need to complete a function called sockMerchant. This function takes:\n",
    "\n",
    "An integer n, which is the total number of socks in the pile.\n",
    "An array ar, which contains the color of each sock.\n",
    "The function should return the total number of pairs of socks.\n",
    "\"\"\"\n",
    "\n",
    "arr = [1, 1, 3, 1, 2, 1, 3, 3, 3, 3]\n",
    "n = 7 \n",
    "\n",
    "sorted_arr = sorted(arr)\n",
    "count=0\n",
    "dict = {}\n",
    "\n",
    "for i in sorted_arr:\n",
    "    dict[i] = dict.get(i, 0) + 1\n",
    "\n",
    "for i in dict.values():\n",
    "    if i // 2 != 0:\n",
    "        count+=i//2\n",
    "count"
   ]
  },
  {
   "cell_type": "code",
   "execution_count": 7,
   "metadata": {},
   "outputs": [
    {
     "name": "stdout",
     "output_type": "stream",
     "text": [
      "10000\n"
     ]
    }
   ],
   "source": [
    "# Week 3 Question 3\n",
    "\n",
    "\"\"\"\n",
    "You need to fix a function that calculates the XOR (exclusive OR) of two binary strings. XOR is a logical operation where two binary values are compared bit by bit. \n",
    "If the bits are the same (both 0 or both 1), the result is 0. If the bits are different (0 and 1 or 1 and 0), the result is 1.\n",
    "\n",
    "The task involves taking two binary strings of the same length and performing the XOR operation on each corresponding pair of bits. The result of this operation will be a new binary \n",
    "string. Your job is to debug the existing code so that it correctly performs this operation. You are allowed to make only a few changes (up to three lines) in the given function to make\n",
    "it work.\n",
    "The function should handle strings of varying lengths, up to a maximum of 10,000 characters.\n",
    "\"\"\"\n",
    "s = '10101'\n",
    "t = '00101'\n",
    "\n",
    "res = \"\"\n",
    "for i in range(len(s)):\n",
    "    if s[i] == t[i]:\n",
    "        res += '0'\n",
    "    else:\n",
    "        res += '1'\n",
    "\n",
    "print(res)"
   ]
  },
  {
   "cell_type": "code",
   "execution_count": 24,
   "metadata": {},
   "outputs": [
    {
     "name": "stdout",
     "output_type": "stream",
     "text": [
      "0\n",
      "1\n",
      "2\n",
      "3\n"
     ]
    },
    {
     "data": {
      "text/plain": [
       "2"
      ]
     },
     "execution_count": 24,
     "metadata": {},
     "output_type": "execute_result"
    }
   ],
   "source": [
    "# Week 3 Question 2\n",
    "\n",
    "\"\"\"\n",
    "Two children, Lily and Ron, want to share a chocolate bar. Each square of the chocolate bar has an integer on it.\n",
    "\n",
    "Lily decides to share a contiguous segment of the bar such that:\n",
    "\n",
    "The length of the segment matches Ron's birth month (m).\n",
    "The sum of the integers in the segment equals Ron's birthday (d).\n",
    "The goal is to determine how many ways Lily can divide the chocolate.\n",
    "\n",
    "Example: If the chocolate bar is represented as:\n",
    "\n",
    "s = [2, 2, 1, 3, 2]\n",
    "Ron's birthday is d = 4\n",
    "Ron's birth month is m = 2\n",
    "Then the valid contiguous segments are:\n",
    "\n",
    "[2, 2], because its sum is 4, and its length is 2.\n",
    "[1, 3], because its sum is 4, and its length is 2.\n",
    "Thus, there are 2 ways Lily can divide the chocolate.\n",
    "\n",
    "Function Description: The function \"birthday\" should take the following parameters:\n",
    "\n",
    "int s[n]: An array of integers representing the chocolate squares.\n",
    "int d: Ron's birthday.\n",
    "int m: Ron's birth month.\n",
    "Returns:\n",
    "\n",
    "int: The number of ways the chocolate bar can be divided to meet the given conditions.\n",
    "\"\"\"\n",
    "s = [2,2,1,3,2]\n",
    "\n",
    "d=4\n",
    "m=2\n",
    "\n",
    "count = 0\n",
    "for i in range(len(s)-m+1):\n",
    "    print(i)\n",
    "    if sum(s[i:m+i]) == d:\n",
    "        count+=1\n",
    "\n",
    "count"
   ]
  },
  {
   "cell_type": "code",
   "execution_count": 95,
   "metadata": {},
   "outputs": [
    {
     "name": "stdout",
     "output_type": "stream",
     "text": [
      "No\n"
     ]
    }
   ],
   "source": [
    "# Week 3 Question 1\n",
    "\n",
    "\"\"\"\n",
    "You are given two arrays of numbers, A and B, and a number 𝑘\n",
    "k. Rearrange the numbers in both arrays to check if, for every position, the sum of the numbers from A and B is at least 𝑘\n",
    "k. If it’s possible, return \"YES\"; otherwise, return \"NO\". Repeat this for multiple test cases.\n",
    "\"\"\"\n",
    "\n",
    "A = [1, 2, 2, 1]\n",
    "B = [3, 3, 3, 4]\n",
    "k = 5\n",
    "\n",
    "A = sorted(A )\n",
    "B = sorted(B, reverse=True)\n",
    "\n",
    "for i, num in enumerate(A):\n",
    "    if A[i] + B[i] < k:\n",
    "        print(\"NO\")\n",
    "    else:\n",
    "        print(\"YES\")"
   ]
  },
  {
   "cell_type": "code",
   "execution_count": 37,
   "metadata": {},
   "outputs": [
    {
     "data": {
      "text/plain": [
       "'CoffeeMachine'"
      ]
     },
     "execution_count": 37,
     "metadata": {},
     "output_type": "execute_result"
    }
   ],
   "source": [
    "# Week 2 Question 7\n",
    "\n",
    "\"\"\"\n",
    "Camel Case is a way of naming things in programming where the first word starts with a lowercase letter, and each subsequent word starts with a capital letter (e.g., startThread). \n",
    "Class names follow a similar pattern but always start with an uppercase letter (e.g., BlueCar).\n",
    "\n",
    "Your task is to create a program that can either split or combine Camel Case strings.\n",
    "\n",
    "Input Format\n",
    "Each line of input will start with an operation (S or C), followed by a semicolon (;), and then a type (M, C, or V), followed by another semicolon (;), and finally the string to process.\n",
    "The operation can be:\n",
    "S for split\n",
    "C for combine\n",
    "The type indicates:\n",
    "M for a method (ends with ())\n",
    "C for a class\n",
    "V for a variable\n",
    "For split operations, the input string will be a Camel Case word that you need to break into space-separated words.\n",
    "For combine operations, the input string will be a space-separated list of words that you need to combine into Camel Case format.\n",
    "\"\"\"\n",
    "s = \"S;V;pictureFrame\"\n",
    "t = 'C;C;coffee machine'\n",
    "\n",
    "operation, type_, data = t.split(\";\")\n",
    "\n",
    "if operation == 'S':\n",
    "    result=[]\n",
    "\n",
    "    for i, char in enumerate(data):\n",
    "        if char.isupper() and i != 0:\n",
    "            result.append(\" \")\n",
    "        result.append(char)\n",
    "    result = \"\".join(result).strip(\"()\")\n",
    "    print(result.lower())\n",
    "\n",
    "elif operation == 'C': \n",
    "    words = data.split()\n",
    "    if type_ == 'M':\n",
    "        words = words[0] + \"\".join(word.capitalize() for word in words[1:]) + \"()\"\n",
    "    if type_ == 'V':\n",
    "        words = words[0] + \"\".join(word.capitalize() for word in words[1:])\n",
    "    if type_ == 'C':\n",
    "        words = \"\".join(word.capitalize() for word in words)\n",
    "        \n",
    "\n",
    "\n",
    "words "
   ]
  },
  {
   "cell_type": "code",
   "execution_count": 10,
   "metadata": {},
   "outputs": [
    {
     "data": {
      "text/plain": [
       "2"
      ]
     },
     "execution_count": 10,
     "metadata": {},
     "output_type": "execute_result"
    }
   ],
   "source": [
    "# Week 2 Question 6\n",
    "\n",
    "\"\"\"\n",
    "An avid hiker keeps detailed records of their hikes. During the last hike, which took exactly a given number of steps, the hiker noted whether each step was an uphill step (U) or a\n",
    "downhill step (D). The hike always starts and ends at sea level, and each step represents a one-unit change in altitude.\n",
    "\n",
    "Definitions:\n",
    "\n",
    "A mountain is a sequence of consecutive steps above sea level, starting with a step up from sea level and ending with a step back down to sea level.\n",
    "A valley is a sequence of consecutive steps below sea level, starting with a step down from sea level and ending with a step back up to sea level.\n",
    "The task is to determine how many valleys the hiker traversed during the hike.\n",
    "\n",
    "Example: If the number of steps is 8 and the path is described as DDUUUUDD:\n",
    "\n",
    "The hiker first enters a valley 2 units deep.\n",
    "Then, they climb out and ascend a mountain 2 units high.\n",
    "Finally, the hiker returns to sea level to end the hike.\n",
    "Function Description: Write a function called countingValleys that takes the following inputs:\n",
    "\n",
    "int steps: The total number of steps in the hike.\n",
    "string path: A string describing the sequence of steps (U for uphill and D for downhill).\n",
    "Return Value: The function should return an integer representing\n",
    "\"\"\"\n",
    "\n",
    "steps = 8 \n",
    "path = 'DDUUDDUDUUUD'\n",
    "\n",
    "valley = 0\n",
    "altitude = 0\n",
    "\n",
    "\n",
    "for step in path:\n",
    "\n",
    "    if step == 'U':\n",
    "        altitude +=1 \n",
    "\n",
    "    elif step == 'D':\n",
    "        altitude -=1 \n",
    "\n",
    "\n",
    "    if altitude == 0 and step == 'U':\n",
    "        valley +=1\n",
    "       \n",
    "\n",
    "valley"
   ]
  },
  {
   "cell_type": "code",
   "execution_count": 39,
   "metadata": {},
   "outputs": [
    {
     "data": {
      "text/plain": [
       "20"
      ]
     },
     "execution_count": 39,
     "metadata": {},
     "output_type": "execute_result"
    }
   ],
   "source": [
    "# Week 2 Question 6\n",
    "\n",
    "\"\"\"\n",
    "Context:\n",
    "Some of the letters in SOS messages sent to Earth are changed due to cosmic radiation during transmission. You are given a string, s, representing the message received on Earth. Your task is to determine how many letters in the message were altered during transmission.\n",
    "\n",
    "Example:\n",
    "If the received string is SOSTOT, the original message was SOSSOS. In this case, 2 letters were changed in transit.\n",
    "\n",
    "Task Description:\n",
    "Write a function called marsExploration to solve this problem.\n",
    "\n",
    "Function Details:\n",
    "\n",
    "Input:\n",
    "A string s that represents the message received on Earth.\n",
    "\n",
    "Output:\n",
    "An integer representing the number of letters that were changed during transmission.\n",
    "\n",
    "Input Format:\n",
    "The input is a single string, s.\n",
    "\"\"\"\n",
    "s = 'OOSDSSOSOSWEWSOSOSOSOSOSOSSSSOSOSOSS'\n",
    "\n",
    "c=0\n",
    "for i in range(0, len(s), 3): \n",
    "    if s[i] != 'S':\n",
    "        c+=1 \n",
    "    if s[i+1] != 'O':\n",
    "        c+=1 \n",
    "    if s[i+2] != 'S':\n",
    "        c+=1 \n",
    "c"
   ]
  },
  {
   "cell_type": "code",
   "execution_count": 2,
   "metadata": {},
   "outputs": [
    {
     "name": "stdout",
     "output_type": "stream",
     "text": [
      "Pangram\n"
     ]
    }
   ],
   "source": [
    "# Week 2 Question 5\n",
    "\n",
    "\"\"\"\n",
    "A pangram is a string that contains every letter of the alphabet. Given a sentence, determine whether it is a pangram in the English alphabet. Ignore case. Return either pangram or \n",
    "not pangram as appropriate.\n",
    "\n",
    "Example\n",
    "Input:\n",
    "s = \"The quick brown fox jumps over the lazy dog\"\n",
    "\n",
    "Output:\n",
    "The string contains all letters in the English alphabet, so return pangram.\n",
    "\n",
    "Function Description\n",
    "Complete the function pangrams as described below. The function should return the string pangram if the input string is a pangram. Otherwise, it should return not pangram.\n",
    "\n",
    "Function Signature:\n",
    "pangrams(s: str) -> str\n",
    "\n",
    "Parameters:\n",
    "\n",
    "s: A string to test.\n",
    "Returns:\n",
    "\n",
    "A string: Either pangram or not pangram.\n",
    "\"\"\"\n",
    "\n",
    "s='We promptly judged antique ivory buckles for the next prize'\n",
    "\n",
    "lower_case = s.lower()\n",
    "join_sting = ''.join(lower_case.split())\n",
    "\n",
    "alphabet = 'abcdefghijklmnopqrstuvwxyz'\n",
    "\n",
    "for i in alphabet:\n",
    "    if i not in join_sting:\n",
    "        print(\"Not pangram\")\n",
    "\n",
    "print(\"Pangram\")\n"
   ]
  },
  {
   "cell_type": "code",
   "execution_count": 88,
   "metadata": {},
   "outputs": [
    {
     "data": {
      "text/plain": [
       "[0, 3, 1, 1]"
      ]
     },
     "execution_count": 88,
     "metadata": {},
     "output_type": "execute_result"
    }
   ],
   "source": [
    "# Week 2 Question 4\n",
    "\n",
    "\"\"\"\n",
    "Given Array:\n",
    "arr = [1, 1, 3, 2, 1]\n",
    "\n",
    "Initialize Counting Array:\n",
    "\n",
    "result = [0, 0, 0, 0] (size 4 to cover values from 0 to 3).\n",
    "Count Frequencies:\n",
    "\n",
    "For arr[0] = 1, increment result[1]. → result = [0, 1, 0, 0]\n",
    "For arr[1] = 1, increment result[1]. → result = [0, 2, 0, 0]\n",
    "For arr[2] = 3, increment result[3]. → result = [0, 2, 0, 1]\n",
    "For arr[3] = 2, increment result[2]. → result = [0, 2, 1, 1]\n",
    "For arr[4] = 1, increment result[1]. → result = [0, 3, 1, 1]\n",
    "Counting Array After Iteration:\n",
    "\n",
    "result = [0, 3, 1, 1]\n",
    "Interpretation:\n",
    "Value 0 appears 0 times.\n",
    "Value 1 appears 3 times.\n",
    "Value 2 appears 1 time.\n",
    "Value 3 appears 1 time.\n",
    "Reconstruct the Sorted Array:\n",
    "\n",
    "Read through result and reconstruct:\n",
    "Add 1 three times → [1, 1, 1]\n",
    "Add 2 one time → [1, 1, 1, 2]\n",
    "Add 3 one time → [1, 1, 1, 2, 3]\n",
    "Final Sorted Array: [1, 1, 1, 2, 3]\n",
    "\n",
    "\"\"\"\n",
    "array = [1,1,3,2,1]\n",
    "\n",
    "result = [0 for _ in range(4)]\n",
    "\n",
    "for i in range(len(array)):\n",
    "    result[array[i]] += 1 \n",
    "    \n",
    "result"
   ]
  },
  {
   "cell_type": "code",
   "execution_count": 54,
   "metadata": {},
   "outputs": [
    {
     "name": "stdout",
     "output_type": "stream",
     "text": [
      "25\n",
      "33\n",
      "8\n"
     ]
    }
   ],
   "source": [
    "# Week 2 Question 3\n",
    "\n",
    "\"\"\"\n",
    "Problem:\n",
    "Given a square matrix, calculate the absolute difference between the sums of its diagonals.\n",
    "For example, for the matrix below:\n",
    "\n",
    "1 2 3\n",
    "4 5 6\n",
    "9 8 9\n",
    "\n",
    "The left-to-right diagonal sum is: 1 + 5 + 9 = 15\n",
    "The right-to-left diagonal sum is: 3 + 5 + 9 = 17\n",
    "The absolute difference between these sums is: |15 - 17| = 2\n",
    "\n",
    "Task:\n",
    "Complete a function called `diagonalDifference` that takes a square matrix (a list of lists)\n",
    "as input and returns the absolute difference between the sums of its diagonals.\n",
    "\n",
    "\"\"\"\n",
    "\n",
    "\n",
    "matrix = [[1,2,3,12],\n",
    "          [4,5,6,11],\n",
    "          [7,8,9,10],\n",
    "          [7,8,9,10]]\n",
    "\n",
    "first = 0\n",
    "second = 0\n",
    "for i in range(len(matrix)):\n",
    "    for j in range(len(matrix)):\n",
    "        if i == j:\n",
    "            first += matrix[i][j]\n",
    "    j = len(matrix) -1 - i\n",
    "    second += matrix[i][j]\n",
    "\n",
    "\n",
    "# matrix[0][3]\n",
    "# matrix[1][2]\n",
    "# matrix[2][1]\n",
    "# matrix[3][0]\n",
    "\n",
    "print(first)\n",
    "print(second)\n",
    "\n",
    "print(abs(first-second))\n"
   ]
  },
  {
   "cell_type": "code",
   "execution_count": 42,
   "metadata": {},
   "outputs": [
    {
     "data": {
      "text/plain": [
       "4294967293"
      ]
     },
     "execution_count": 42,
     "metadata": {},
     "output_type": "execute_result"
    }
   ],
   "source": [
    "# Week 2 Question 2 \n",
    "\n",
    "\"\"\"\n",
    "You are given a 32-bit unsigned integer. Flip all the bits (change 1 to 0 and 0 to 1) \n",
    "and return the result as an unsigned decimal integer. For example, if n = 9 (in decimal), its 32-bit binary representation \n",
    "is 00000000000000000000000000001001. Flipping all the bits gives 11111111111111111111111111110110, which is\n",
    " equivalent to 4294967286 in decimal. The function should return 4294967286.\n",
    "\n",
    "Function Description:\n",
    "Complete the function flippingBits as follows:\n",
    "\n",
    "Parameters: int n: The input integer.\n",
    "Returns: int: The unsigned decimal integer after flipping all bits.\n",
    "\"\"\"\n",
    "\n",
    "n = 2\n",
    "\n",
    "def flippingBits(n):\n",
    "    # Write your code here\n",
    "    \n",
    "    binary_representation = bin(n)[2:].zfill(32)\n",
    "    flipped_representation = ''.join(map(lambda bits: '0' if bits == '1' else '1', binary_representation))\n",
    "    \n",
    "    return((int(flipped_representation, 2)))\n",
    "\n",
    "flippingBits(n)\n"
   ]
  },
  {
   "cell_type": "code",
   "execution_count": 32,
   "metadata": {},
   "outputs": [
    {
     "data": {
      "text/plain": [
       "[87, 40, 45, 23, 29, 45]"
      ]
     },
     "execution_count": 32,
     "metadata": {},
     "output_type": "execute_result"
    }
   ],
   "source": [
    "# Week 2 Question 2 \n",
    "\n",
    "\"\"\"\n",
    "HackerLand University Grading Policy\n",
    "\n",
    "Each student gets a grade in the range from 0 to 100.\n",
    "A grade less than 40 is considered failing.\n",
    "Rounding Rules:\n",
    "\n",
    "If the difference between the grade and the next multiple of 5 is less than 3, round the grade up to the next multiple of 5.\n",
    "If the grade is less than 38, do not round it because the result will still be a failing grade.\n",
    "Examples:\n",
    "\n",
    "A grade of 84 rounds up to 85 (since 85 - 84 = 1, which is less than 3).\n",
    "A grade of 29 is not rounded (it is less than 40).\n",
    "A grade of 57 is not rounded (the difference to the next multiple of 5 is 60 - 57 = 3, which is not less than 3).\n",
    "Task: Write a function to automate this rounding process.\n",
    "\n",
    "\"\"\"\n",
    "\n",
    "grades = [87,40,44,23,29,43]\n",
    "new_grade = []\n",
    "for i in grades:\n",
    "    if i < 38:\n",
    "        new_grade.append(i)\n",
    "    else: \n",
    "        if (i//5 + 1) * 5 - i < 3:\n",
    "            new_grade.append((i//5 + 1) * 5)\n",
    "        else:\n",
    "            new_grade.append(i)\n",
    "new_grade"
   ]
  },
  {
   "cell_type": "code",
   "execution_count": 122,
   "metadata": {},
   "outputs": [
    {
     "name": "stdout",
     "output_type": "stream",
     "text": [
      "{1: 2, 2: 2, 3: 2, 4: 1}\n",
      "4\n"
     ]
    }
   ],
   "source": [
    "# Week 2 Question 1 \n",
    "\n",
    "\"\"\"\n",
    "Given an array of integers, where all elements but one occur twice, find the unique element.\n",
    "\n",
    "\"\"\"\n",
    "\n",
    "dict_values = {}\n",
    "a = [1,2,3,4,3,2,1]\n",
    "\n",
    "for i in a:\n",
    "    dict_values[i] = dict_values.get(i, 0) + 1\n",
    "\n",
    "\n",
    "for key,value in dict_values.items():\n",
    "    if value == 1:\n",
    "        print(key)\n"
   ]
  },
  {
   "cell_type": "code",
   "execution_count": 109,
   "metadata": {},
   "outputs": [
    {
     "name": "stdout",
     "output_type": "stream",
     "text": [
      "[0, 1, 2, 3, 4, 6, 7]\n",
      "3\n"
     ]
    }
   ],
   "source": [
    "# Mock test \n",
    "\n",
    "\"\"\"\n",
    "Find the median of n odd elements\n",
    "\"\"\"\n",
    "arr = [0, 1, 2, 4, 6, 3, 7]\n",
    "sorted_arr = sorted(arr)\n",
    "\n",
    "print(sorted_arr)\n",
    "median = len(sorted_arr) // 2 \n",
    "print(sorted_arr[median])"
   ]
  },
  {
   "cell_type": "code",
   "execution_count": 86,
   "metadata": {},
   "outputs": [
    {
     "data": {
      "text/plain": [
       "[2, 1, 0]"
      ]
     },
     "execution_count": 86,
     "metadata": {},
     "output_type": "execute_result"
    }
   ],
   "source": [
    "# Question 8\n",
    "\n",
    "\"\"\"\n",
    "There is a collection of input strings and a collection of query strings. For each query string, \n",
    "determine how many times it occurs in the list of input strings. Return an array of the results.\n",
    "\"\"\"\n",
    "\n",
    "strings = ['ab', 'ab', 'abc']\n",
    "queries = ['ab', 'abc', 'bc']\n",
    "\n",
    "\n",
    "## This solution didn't pass several tests?? \n",
    "dict = {}\n",
    "\n",
    "for i in queries:\n",
    "    dict[i] = 0\n",
    "    for j in strings:          \n",
    "        if i == j :\n",
    "            dict[i]+=1 \n",
    "        \n",
    "        \n",
    "list(dict.values())"
   ]
  },
  {
   "cell_type": "code",
   "execution_count": 87,
   "metadata": {},
   "outputs": [
    {
     "name": "stdout",
     "output_type": "stream",
     "text": [
      "[2, 1, 0]\n"
     ]
    }
   ],
   "source": [
    "## This solution passed all test: \n",
    "\n",
    "count_list = []\n",
    "\n",
    "for i in queries:\n",
    "    count_list.append(strings.count(i))\n",
    "\n",
    "print(count_list)\n"
   ]
  },
  {
   "cell_type": "code",
   "execution_count": null,
   "metadata": {},
   "outputs": [],
   "source": [
    "# Question 6 \n",
    "\n",
    "\"\"\"\n",
    "Given an array of integers and a positive integer k, determine the number of (i, j) pairs where i < j and ar[i] + ar[j] is divisible by k.\n",
    "\"\"\"\n",
    "\n",
    "\n",
    "\n",
    "def divisibleSumPairs(n, k, ar):\n",
    "    # Write your code here\n",
    "    list_values = []\n",
    "    for i in range(n - 1):\n",
    "        for j in range(1, n):\n",
    "            if i != j and i < j:\n",
    "                if (ar[i] + ar[j]) % k == 0:\n",
    "                    list_values.append([ar[i] + ar[j]])\n",
    "    return len(list_values)\n",
    "\n",
    "\n"
   ]
  },
  {
   "cell_type": "code",
   "execution_count": 89,
   "metadata": {},
   "outputs": [
    {
     "name": "stdout",
     "output_type": "stream",
     "text": [
      "4 0\n"
     ]
    }
   ],
   "source": [
    "# Question 4 \n",
    "\n",
    "\"\"\"\n",
    "Given the scores for a season, determine the number of times Maria breaks her records for most and least points scored during the season.\n",
    "\n",
    "\"\"\"\n",
    "\n",
    "scores = [3, 4, 21, 36, 10, 28, 35, 5, 24, 42]\n",
    "\n",
    "max_value = scores[0]\n",
    "min_value = scores[0]\n",
    "min_count = 0\n",
    "max_count=0\n",
    "for i in range(len(scores)-1): \n",
    "    \n",
    "    if min_value > scores[i+1]:\n",
    "            min_value = scores[i+1]\n",
    "            min_count += 1 \n",
    "    if max_value < scores[i+1]:\n",
    "          max_value = scores[i+1]\n",
    "          max_count +=1    \n",
    "\n",
    "\n",
    "print(max_count, min_count)\n"
   ]
  },
  {
   "cell_type": "code",
   "execution_count": 90,
   "metadata": {},
   "outputs": [
    {
     "name": "stdout",
     "output_type": "stream",
     "text": [
      "03:01:00\n"
     ]
    }
   ],
   "source": [
    "\n",
    "## Question 3 \n",
    "\n",
    "\"\"\"\n",
    "Given a 12 time in -hour AM/PM format, convert it to military (24-hour) time.\n",
    "\n",
    "Note: - 12:00:00AM on a 12-hour clock is 00:00:00 on a 24-hour clock.\n",
    "- 12:00:00PM on a 12-hour clock is 12:00:00 on a 24-hour clock.\n",
    "\n",
    "\"\"\"\n",
    "s = '03:01:00AM'\n",
    "\n",
    "s_split = s.split(\":\")[2]\n",
    "\n",
    "if 'PM' in s.split(':')[2] and s.split(':')[0] == '12':\n",
    "    hrs = print('12'+':'+s.split(':')[1]+':'+s_split.split('PM')[0])\n",
    "\n",
    "elif 'PM' in s.split(':')[2]:\n",
    "    hrs = int(s.split(':')[0]) + int('12')\n",
    "    print(str(hrs)+':'+s.split(':')[1]+':'+s_split.split('PM')[0])\n",
    "\n",
    "elif 'AM' in s.split(':')[2] and s.split(':')[0] == '12':\n",
    "    print('00'+':'+s.split(':')[1]+':'+s_split.split('AM')[0])\n",
    "\n",
    "else: \n",
    "    print(s.split(':')[0]+':'+s.split(':')[1]+':'+s_split.split('AM')[0])\n",
    "\n",
    "\n",
    "\n",
    "\n"
   ]
  },
  {
   "cell_type": "code",
   "execution_count": 91,
   "metadata": {},
   "outputs": [
    {
     "data": {
      "text/plain": [
       "[3, 1, 9, 7, 5]"
      ]
     },
     "execution_count": 91,
     "metadata": {},
     "output_type": "execute_result"
    }
   ],
   "source": [
    "## Question 2 \n",
    "\n",
    "\"\"\"\n",
    "Given five positive integers, find the minimum and maximum values that can be calculated by summing exactly four of the five integers. \n",
    "\n",
    "Then print the respective minimum and maximum values as a single line of two space-separated long integers.\n",
    "\n",
    "\"\"\"\n",
    "def miniMaxSum(arr):\n",
    "    # Write your code here\n",
    "    sort_value = sorted(arr)\n",
    "    \n",
    "    print(sum(sort_value[:4]), sum(sort_value[1:]))\n",
    "\n",
    "arr = [3, 1, 9, 7, 5]\n",
    "\n",
    "arr"
   ]
  },
  {
   "cell_type": "code",
   "execution_count": 92,
   "metadata": {},
   "outputs": [
    {
     "name": "stdout",
     "output_type": "stream",
     "text": [
      "0.4\n",
      "0.4\n",
      "0.2\n"
     ]
    }
   ],
   "source": [
    "## Question 1 \n",
    "\n",
    "\"\"\"\n",
    "Given an array of integers, calculate the ratios of its elements that are positive, negative, and zero. Print the decimal value of each fraction on a new line with  places after the decimal.\n",
    "\n",
    "Note: This challenge introduces precision problems. The test cases are scaled to six decimal places, though answers with absolute error of up to 10^-4 are acceptable\n",
    "\"\"\"\n",
    "def plusMinus(arr):\n",
    "    # Write your code here\n",
    "    pos = []\n",
    "    neg = []\n",
    "    zero = []\n",
    "    \n",
    "    for i in arr:\n",
    "        if i < 0:\n",
    "            neg.append(i)\n",
    "        elif i > 0:\n",
    "            pos.append(i)\n",
    "        else:\n",
    "            zero.append(i)\n",
    "    print(len(pos)/len(arr))\n",
    "    print(len(neg)/len(arr))\n",
    "    print(len(zero)/len(arr))\n",
    "\n",
    "arr = [1, 1, 0, -1, -1]\n",
    "\n",
    "plusMinus(arr)"
   ]
  }
 ],
 "metadata": {
  "kernelspec": {
   "display_name": "base",
   "language": "python",
   "name": "python3"
  },
  "language_info": {
   "codemirror_mode": {
    "name": "ipython",
    "version": 3
   },
   "file_extension": ".py",
   "mimetype": "text/x-python",
   "name": "python",
   "nbconvert_exporter": "python",
   "pygments_lexer": "ipython3",
   "version": "3.12.2"
  }
 },
 "nbformat": 4,
 "nbformat_minor": 2
}
